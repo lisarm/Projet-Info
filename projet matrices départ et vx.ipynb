{
 "cells": [
  {
   "cell_type": "code",
   "execution_count": 34,
   "id": "f104e366",
   "metadata": {},
   "outputs": [
    {
     "name": "stdout",
     "output_type": "stream",
     "text": [
      "[[0. 1. 0. 1. 0. 1. 0. 1. 0. 1. 0. 1. 0. 1. 0.]\n",
      " [0. 0. 0. 0. 0. 0. 0. 0. 0. 0. 0. 0. 0. 0. 0.]\n",
      " [0. 1. 0. 1. 0. 1. 0. 1. 0. 1. 0. 1. 0. 1. 0.]\n",
      " [0. 0. 0. 0. 0. 0. 0. 0. 0. 0. 0. 0. 0. 0. 0.]\n",
      " [0. 1. 0. 1. 0. 1. 0. 1. 0. 1. 0. 1. 0. 1. 0.]\n",
      " [0. 0. 0. 0. 0. 0. 0. 0. 0. 0. 0. 0. 0. 0. 0.]\n",
      " [0. 1. 0. 1. 0. 1. 0. 1. 0. 1. 0. 1. 0. 1. 0.]\n",
      " [0. 0. 0. 0. 0. 0. 0. 0. 0. 0. 0. 0. 0. 0. 0.]\n",
      " [0. 1. 0. 1. 0. 1. 0. 1. 0. 1. 0. 1. 0. 1. 0.]]\n"
     ]
    }
   ],
   "source": [
    "import numpy as np\n",
    "#on voudrait taille_en_cm/pas=nb_entier_impair=taillex (ou y)\n",
    "\n",
    "#paramètres du problème\n",
    "eta=0.001\n",
    "mu=1000\n",
    "tx=6 #à être défini par l'utilisateur , nb arbitraire pr l'instant\n",
    "ty=3\n",
    "taillex=2*tx+1 #taille tuyau\n",
    "tailley=2*ty+1\n",
    "#creation de la matrice A initiale\n",
    "Nx = taillex+1 # \"taille\" désigne la taille du tuyau, Nx+1 et Ny+1 sont les dimentions de la matrice \\ mais python commence le décompte des coordonées des coefficients à 0 (et non 1) donc c'est plus pratique\n",
    "Ny = tailley+1\n",
    "A=np.zeros((Ny+1, Nx+1)) #!!!jsp pk c Nx+1\n",
    "for a in range(1,Nx+1,2): \n",
    "    for b in range(0,Ny+1,2):\n",
    "        A[b,a]=1\n",
    "dt=1\n",
    "dx=1\n",
    "dy=1\n",
    "print(A)"
   ]
  },
  {
   "cell_type": "code",
   "execution_count": 35,
   "id": "8cce5e63",
   "metadata": {},
   "outputs": [],
   "source": [
    " #boucle infini selon tmp\n",
    "#definition de Vx\n",
    "for a in range(3,Nx-2,2): #a va de 3 à Nx-3 car les autres points sont hors du tuyau et servent de conditions initiales,sinon le laplacien n'est pas défini, calcul le long d'une ligne donc a est l'indice de la colonne\n",
    "    for b in range(2,Ny-1,2):#b va de 2 à Ny-2, calcul le long d'une colonne \n",
    "        laplaVx=float((A[b,a+2]-A[b,a-2])/dx**2)\n",
    "        derivp=float((A[b,a+1]-A[b,a-1])/dx)\n",
    "        derivxVx2=float(((A[b,a+2])**2-(A[b,a])**2)/dx)\n",
    "        derivyVx=float((A[b+2,a]-A[b,a])/dy)\n",
    "        Vy=float(A[b-1,a-1])\n",
    "        A[b,a]=A[b,a]+ dt*(-derivp+eta*laplaVx-derivxVx2-Vy*derivyVx)\n",
    "        #faire un if difference entre mat < tolérence -> break\n",
    "\n",
    "#definition de Vy \n",
    "for a in range(2,Nx-1,2): \n",
    "    for b in range(3,Ny-2,2): \n",
    "        laplaVx=float((A[b,a+2]-A[b,a-2])/dx**2)\n",
    "        derivp=float((A[b,a+1]-A[b,a-1])/dx)\n",
    "        derivyVy2=float(((A[b+2,a])**2-(A[b,a])**2)/dy)\n",
    "        derivxVy=float((A[b,a+2]-A[b,a])/dx)\n",
    "        Vx=float(A[b-1,a-1])\n",
    "        A[b,a]=A[b,a]+ dt*(-derivp+eta*laplaVx-derivyVy2-Vx*derivxVy)\n",
    "        \n",
    "#correction de pression\n",
    "for a in range(2,Nx-1,2): \n",
    "    for b in range(2,Ny-1,2): \n",
    "        div=(A[b,a+1]-A[b,a-1])/dx+(A[b+1,a]-A[b-1,a])/dy\n",
    "        \n",
    "\n"
   ]
  },
  {
   "cell_type": "code",
   "execution_count": null,
   "id": "6af9c8db",
   "metadata": {},
   "outputs": [],
   "source": []
  }
 ],
 "metadata": {
  "kernelspec": {
   "display_name": "Python 3 (ipykernel)",
   "language": "python",
   "name": "python3"
  },
  "language_info": {
   "codemirror_mode": {
    "name": "ipython",
    "version": 3
   },
   "file_extension": ".py",
   "mimetype": "text/x-python",
   "name": "python",
   "nbconvert_exporter": "python",
   "pygments_lexer": "ipython3",
   "version": "3.9.12"
  }
 },
 "nbformat": 4,
 "nbformat_minor": 5
}
